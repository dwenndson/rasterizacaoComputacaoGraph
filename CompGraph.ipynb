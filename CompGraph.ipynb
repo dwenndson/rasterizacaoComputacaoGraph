{
 "cells": [
  {
   "cell_type": "markdown",
   "metadata": {},
   "source": [
    "<h1>Trabalho de computação gráfica</h1>"
   ]
  },
  {
   "cell_type": "code",
   "execution_count": 26,
   "metadata": {},
   "outputs": [],
   "source": [
    "import numpy as numpy\n",
    "import math\n",
    "import matplotlib.pyplot as plt\n",
    "\n",
    "class Line:\n",
    "  deltaX: float\n",
    "  deltaY: float\n",
    "  b: float\n",
    "  m: float\n",
    "\n",
    "  def __init__(self):\n",
    "    self.matrizOne = numpy.zeros((50 , 50 ))\n",
    "    self.matrizTwo = numpy.zeros((80, 80))\n",
    "    self.matrizTree = numpy.zeros((110, 110))\n",
    "\n",
    "  def createLine(self,x1,y1,x2,y2):\n",
    "    self.x1=x1\n",
    "    self.x2=x2\n",
    "    self.y1=y1\n",
    "    self.y2=y2\n",
    "    #coment\n",
    "    xs = [self.x1, self.x2]\n",
    "    ys = [self.y1, self.y2]\n",
    "\n",
    "    xs.sort()\n",
    "    ys.sort()\n",
    "\n",
    "    self.Xmin, self.Xmax = xs\n",
    "    self.Ymin, self.Ymax = ys\n",
    "    \n",
    "    self.deltaX = x2 - x1\n",
    "    self.deltaY = y2 - y1\n",
    "    \n",
    "    self.m = self.deltaY / self.deltaX\n",
    "    print(self.m)\n",
    "    self.b = y1 - (self.m*x1)\n",
    "    self.createMatriz()\n",
    "   \n",
    "  def createMatriz(self):\n",
    "      if abs(self.deltaX) > abs(self.deltaY):\n",
    "          for x in range(self.Xmin, self.Xmax ):\n",
    "              y = self.m*x + self.b\n",
    "              x = math.floor(x)\n",
    "              y = math.floor(y)\n",
    "              self.matrizOne[x][y] = 1\n",
    "              self.matrizTwo[x][y] = 1\n",
    "              self.matrizTree[x][y] = 1\n",
    "      else:\n",
    "          for y in range(self.Ymin, self.Ymax ):\n",
    "              x = (y-self.b)/self.m\n",
    "              x = math.floor(x)\n",
    "              y = math.floor(y)\n",
    "              self.matrizOne[x][y] = 1\n",
    "              self.matrizTwo[x][y] = 1\n",
    "              self.matrizTree[x][y] = 1\n",
    "  def plot(self):\n",
    "    mat = numpy.rot90(self.matrizOne, k=1, axes=(0,1))\n",
    "    mat2=numpy.rot90(self.matrizTwo, k=1, axes=(0,1))\n",
    "    mat3=numpy.rot90(self.matrizTree, k=1, axes=(0,1))\n",
    "  \n",
    "    fig, (ax1, ax2, ax3) = plt.subplots(1,3)\n",
    "    \n",
    "  \n",
    "    ax1.imshow(mat,'Blues')\n",
    "    ax2.imshow(mat2,'Blues')\n",
    "    ax3.imshow(mat3,'Blues')\n",
    "    \n",
    "    ax1.set_axis_off()\n",
    "    ax2.set_axis_off()\n",
    "    ax3.set_axis_off()\n",
    "    \n",
    "    plt.show();"
   ]
  },
  {
   "cell_type": "code",
   "execution_count": 27,
   "metadata": {},
   "outputs": [
    {
     "name": "stdout",
     "output_type": "stream",
     "text": [
      "1.0204081632653061\n",
      "0.0\n",
      "-0.98\n"
     ]
    },
    {
     "data": {
      "image/png": "[encoded data removed]",
      "text/plain": [
       "<Figure size 432x288 with 3 Axes>"
      ]
     },
     "metadata": {
      "needs_background": "light"
     },
     "output_type": "display_data"
    }
   ],
   "source": [
    "if __name__ == '__main__':\n",
    "\n",
    "    line = Line()\n",
    "    line.createLine(0,0,49,50)\n",
    "    line.createLine(0,40,45,40)\n",
    "    line.createLine(0,49,50,0)\n",
    "  \n",
    "    line.plot()"
   ]
  }
 ],
 "metadata": {
  "interpreter": {
   "hash": "ac59ebe37160ed0dfa835113d9b8498d9f09ceb179beaac4002f036b9467c963"
  },
  "kernelspec": {
   "display_name": "Python 3.9.7 64-bit",
   "name": "python3"
  },
  "language_info": {
   "codemirror_mode": {
    "name": "ipython",
    "version": 3
   },
   "file_extension": ".py",
   "mimetype": "text/x-python",
   "name": "python",
   "nbconvert_exporter": "python",
   "pygments_lexer": "ipython3",
   "version": "3.9.7"
  },
  "orig_nbformat": 4
 },
 "nbformat": 4,
 "nbformat_minor": 2
}
